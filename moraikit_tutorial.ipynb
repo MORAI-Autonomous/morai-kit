{
 "cells": [
  {
   "cell_type": "markdown",
   "metadata": {},
   "source": [
    "# MORAI Sensor Kit tutorial\n",
    "\n",
    "MORAI SIM API 튜토리얼 입니다. "
   ]
  },
  {
   "cell_type": "markdown",
   "metadata": {},
   "source": [
    "## A Gentle Introduction to MORAI-KIT\n",
    "\n",
    "본 튜토리얼에서는 주로 사용하는 기능과 타입에 대한 간단한 사용법에 대해 설명합니다.\n",
    "\n",
    "1. `Vector3` - 입력 기본 단위 타입 - x, y, z.\n",
    "2. `Location` - 입력 위치값 타입 - x, y, z.\n",
    "3. `Rotation` - 입력 회전값 타입 - roll, pitch, yaw.\n",
    "4. `Transform` - 입력 포즈값 타입 - location, rotation.\n",
    "5. `ObjectParams` - 입력 오브젝트 변수값 타입 - scale, object_name.\n",
    "6. `connect` - MORAI 시뮬레이터와 API 연결.\n",
    "7. `initialize` - API 초기화.\n",
    "8. `get_ego_transform` - Ego 차량의 현재 포즈 정보.\n",
    "9. `set_camera` - Ego 차량 중심(뒤축 중앙)로부터 상대위치에 카메라 생성.\n",
    "10. `remove_camera` - 카메라 제거.\n",
    "11. `spawn_object` - Ego 차량으로부터 특정 거리만큼 떨어진 위치에 물체 생성.\n",
    "12. `remove_object` - 생성된 물체 제거.\n",
    "13. `capture_data` - 설치된 센서들로부터 1프레임 데이터 취득."
    "13. `Data Generation Example` - 특정 간격에 따른 데이터 취득 예시."
   ]
  },
  {
   "cell_type": "markdown",
   "metadata": {},
   "source": [
    "## Installation"
   ]
  },
  {
   "cell_type": "code",
   "execution_count": 21,
   "metadata": {},
   "outputs": [],
   "source": [
    "# !pip install jupyter\n"
   ]
  },
  {
   "cell_type": "code",
   "execution_count": 23,
   "metadata": {},
   "outputs": [],
   "source": [
    "# !pip install morai-kit"
   ]
  },
  {
   "cell_type": "markdown",
   "metadata": {},
   "source": [
    "## MORAI-KIT Types"
   ]
  },
  {
   "cell_type": "code",
   "execution_count": 30,
   "metadata": {},
   "outputs": [],
   "source": [
    "from moraikit.sensor import SensorApi\n",
    "from moraikit.types import Vector3, Location, Rotation, Transform, ObjectParams "
   ]
  },
  {
   "cell_type": "markdown",
   "metadata": {},
   "source": [
    "### 1. `Vector3`"
   ]
  },
  {
   "cell_type": "markdown",
   "metadata": {},
   "source": [
    "x, y, z 를 정의하는 기본 타입"
   ]
  },
  {
   "cell_type": "code",
   "execution_count": 4,
   "metadata": {},
   "outputs": [
    {
     "name": "stdout",
     "output_type": "stream",
     "text": [
      "1 2 1\n"
     ]
    }
   ],
   "source": [
    "vector = Vector3(1, 2, 1)\n",
    "print(vector.x, vector.y, vector.z)"
   ]
  },
  {
   "cell_type": "markdown",
   "metadata": {},
   "source": [
    "### 2. `Location`"
   ]
  },
  {
   "cell_type": "code",
   "execution_count": 5,
   "metadata": {},
   "outputs": [
    {
     "name": "stdout",
     "output_type": "stream",
     "text": [
      "1 2 3\n"
     ]
    }
   ],
   "source": [
    "location = Location(x=1, y=2, z=3)\n",
    "print(location.x, location.y, location.z)"
   ]
  },
  {
   "cell_type": "markdown",
   "metadata": {},
   "source": [
    "### 3. `Rotation`"
   ]
  },
  {
   "cell_type": "code",
   "execution_count": 6,
   "metadata": {},
   "outputs": [
    {
     "name": "stdout",
     "output_type": "stream",
     "text": [
      "0 0 30\n"
     ]
    }
   ],
   "source": [
    "rotation = Rotation(roll=0, pitch=0, yaw=30)\n",
    "print(rotation.roll, rotation.pitch, rotation.yaw)"
   ]
  },
  {
   "cell_type": "markdown",
   "metadata": {},
   "source": [
    "### 4. `Transform`"
   ]
  },
  {
   "cell_type": "code",
   "execution_count": 7,
   "metadata": {},
   "outputs": [
    {
     "name": "stdout",
     "output_type": "stream",
     "text": [
      "1 2 3\n",
      "0 0 30\n"
     ]
    }
   ],
   "source": [
    "trasform = Transform(location, rotation)\n",
    "print(trasform.location.x, trasform.location.y, trasform.location.z)\n",
    "print(trasform.rotation.roll, trasform.rotation.pitch, trasform.rotation.yaw)"
   ]
  },
  {
   "cell_type": "markdown",
   "metadata": {},
   "source": [
    "### 5. `ObjectParams`"
   ]
  },
  {
   "cell_type": "markdown",
   "metadata": {},
   "source": [
    "물체를 생성할 때 사용하는 변수그룹입니다.\n",
    "\n",
    "`Object_name` : 생성할 물체 이름\n",
    "\n",
    "`scale` : 생성할 물체의 스케일"
   ]
  },
  {
   "cell_type": "code",
   "execution_count": 8,
   "metadata": {},
   "outputs": [],
   "source": [
    "op = ObjectParams()\n",
    "op.object_name = 'SportBike'\n",
    "op.scale = Vector3(1, 1, 1)"
   ]
  },
  {
   "cell_type": "markdown",
   "metadata": {},
   "source": [
    "## MORAI-SIM Initialization"
   ]
  },
  {
   "cell_type": "markdown",
   "metadata": {},
   "source": [
    "본 튜토리얼은 맵과 차량을 선택 후 맵에 진입한 이후에 진행합니다."
   ]
  },
  {
   "cell_type": "markdown",
   "metadata": {},
   "source": [
    "### 6. `connect`"
   ]
  },
  {
   "cell_type": "code",
   "execution_count": 31,
   "metadata": {},
   "outputs": [],
   "source": [
    "DEFAULT_MORAI_SIM_ADDR = '127.0.0.1'\n",
    "DEFAULT_MORAI_SIM_PORT = 7789\n",
    "\n",
    "# Create api\n",
    "api = SensorApi()\n",
    "\n",
    "# Connect\n",
    "api.connect(DEFAULT_MORAI_SIM_ADDR, DEFAULT_MORAI_SIM_PORT)"
   ]
  },
  {
   "cell_type": "code",
   "execution_count": 32,
   "metadata": {},
   "outputs": [
    {
     "data": {
      "text/plain": [
       "True"
      ]
     },
     "execution_count": 32,
     "metadata": {},
     "output_type": "execute_result"
    }
   ],
   "source": [
    "api.is_connected()\n"
   ]
  },
  {
   "cell_type": "markdown",
   "metadata": {},
   "source": [
    "### 7. `initialize`"
   ]
  },
  {
   "cell_type": "code",
   "execution_count": 33,
   "metadata": {},
   "outputs": [],
   "source": [
    "# Initialize\n",
    "api.initialize()"
   ]
  },
  {
   "cell_type": "markdown",
   "metadata": {},
   "source": [
    "## MORAI-KIT Basics"
   ]
  },
  {
   "cell_type": "markdown",
   "metadata": {},
   "source": [
    "주로 사용할 기능들에 대해 소개합니다."
   ]
  },
  {
   "cell_type": "markdown",
   "metadata": {},
   "source": [
    "### 8. `get_ego_transform`"
   ]
  },
  {
   "cell_type": "markdown",
   "metadata": {},
   "source": [
    "Ego 차량 중심좌표의 월드 포즈 정보를 얻습니다. MORAI-SIM 에서 차량의 중심좌표는 뒷축 중앙 위치로 정의합니다.\n",
    "\n",
    "`location` : meters\n",
    "\n",
    "`rotation` : degrees"
   ]
  },
  {
   "cell_type": "code",
   "execution_count": 12,
   "metadata": {},
   "outputs": [
    {
     "name": "stdout",
     "output_type": "stream",
     "text": [
      "995.775390625 1.7367255687713623 0.03513053059577942\n",
      "0.0005160689470358193 0.1898135244846344 -179.855712890625\n"
     ]
    }
   ],
   "source": [
    "ego_transform = api.get_ego_transform()\n",
    "print(ego_transform.location.x, ego_transform.location.y, ego_transform.location.z)\n",
    "print(ego_transform.rotation.roll, ego_transform.rotation.pitch, ego_transform.rotation.yaw)"
   ]
  },
  {
   "cell_type": "markdown",
   "metadata": {},
   "source": [
    "### 9. `set_camera`"
   ]
  },
  {
   "cell_type": "markdown",
   "metadata": {},
   "source": [
    "Ego 차량으로부터 상대 위치에 카메라를 설치합니다. 이때 설정하는 카메라 포즈는 카메라 렌즈를 기준으로 정의합니다."
   ]
  },
  {
   "cell_type": "code",
   "execution_count": 13,
   "metadata": {},
   "outputs": [
    {
     "name": "stdout",
     "output_type": "stream",
     "text": [
      "res_list {\n",
      "  success: true\n",
      "  target_id: \"0\"\n",
      "  sensor_id: \"0\"\n",
      "}\n",
      "\n"
     ]
    }
   ],
   "source": [
    "sensor_transform = Transform(Location(x=5, y=0, z=2), Rotation(roll=0, pitch=0, yaw=0))\n",
    "response = api.set_camera(transform=sensor_transform)\n",
    "print(response)"
   ]
  },
  {
   "cell_type": "markdown",
   "metadata": {},
   "source": [
    "### 10. `remove_camera`"
   ]
  },
  {
   "cell_type": "code",
   "execution_count": 14,
   "metadata": {},
   "outputs": [
    {
     "name": "stdout",
     "output_type": "stream",
     "text": [
      "res_list {\n",
      "  success: true\n",
      "  target_id: \"0\"\n",
      "  sensor_id: \"0\"\n",
      "}\n",
      "\n"
     ]
    }
   ],
   "source": [
    "response = api.remove_camera(sensor_id=0)\n",
    "print(response)"
   ]
  },
  {
   "cell_type": "markdown",
   "metadata": {},
   "source": [
    "### 11. `spawn_object`"
   ]
  },
  {
   "cell_type": "markdown",
   "metadata": {},
   "source": [
    "Ego 차량으로부터 특정 거리만큼 떨어진 위치에 물체를 생성합니다."
   ]
  },
  {
   "cell_type": "code",
   "execution_count": 15,
   "metadata": {},
   "outputs": [],
   "source": [
    "op = ObjectParams()\n",
    "op.object_name = 'OBJ_Hyundai_Grandeur'\n",
    "op.scale = Vector3(1, 1, 1)"
   ]
  },
  {
   "cell_type": "code",
   "execution_count": 16,
   "metadata": {},
   "outputs": [
    {
     "name": "stdout",
     "output_type": "stream",
     "text": [
      "2\n"
     ]
    }
   ],
   "source": [
    "obj_id = api.spawn_object(distance=3, obj_params= op)\n",
    "print(obj_id)"
   ]
  },
  {
   "cell_type": "markdown",
   "metadata": {},
   "source": [
    "### 12. `remove_object`"
   ]
  },
  {
   "cell_type": "code",
   "execution_count": 17,
   "metadata": {
    "scrolled": true
   },
   "outputs": [],
   "source": [
    "api.remove_object(object_id=obj_id)"
   ]
  },
  {
   "cell_type": "markdown",
   "metadata": {},
   "source": [
    "### 13. `capture_data`"
   ]
  },
  {
   "cell_type": "markdown",
   "metadata": {},
   "source": [
    "생성된 이미지 데이터는 MORAI-SIM 이 설치된 폴더로부터 `~/MoraiLauncher_Win/MoraiLauncher_Win_Data/SaveFile/SensorData` 위치에 저장됩니다."
   ]
  },
  {
   "cell_type": "code",
   "execution_count": 34,
   "metadata": {},
   "outputs": [],
   "source": [
    "api.capture_data()"
   ]
  },
  {
   "cell_type": "markdown",
   "metadata": {},
   "source": [
    "### 14. `Data Generation example`"
   ]
  },
  {
   "cell_type": "code",
   "execution_count": 22,
   "metadata": {},
   "outputs": [
    {
     "name": "stdout",
     "output_type": "stream",
     "text": [
      "res_list {\n",
      "  success: true\n",
      "  target_id: \"0\"\n",
      "  sensor_id: \"0\"\n",
      "}\n",
      "\n"
     ]
    }
   ],
   "source": [
    "sensor_transform = Transform(Location(x=2, y=0, z=1), Rotation(roll=0, pitch=0, yaw=0))\n",
    "response = api.set_camera(transform=sensor_transform)\n",
    "print(response)"
   ]
  },
  {
   "cell_type": "code",
   "execution_count": 35,
   "metadata": {},
   "outputs": [],
   "source": [
    "op = ObjectParams()\n",
    "op.object_name = 'OBJ_Hyundai_Grandeur'\n",
    "op.scale = Vector3(1, 1, 1)"
   ]
  },
  {
   "cell_type": "code",
   "execution_count": 36,
   "metadata": {},
   "outputs": [],
   "source": [
    "import time\n",
    "collecting_frames = 5\n",
    "distance_interval = 5\n",
    "\n",
    "for i in range(collecting_frames):\n",
    "    f = i+1\n",
    "    obj_id = api.spawn_object(distance=distance_interval*f, obj_params= op)\n",
    "    file_name = str(f)\n",
    "    dir_name = \"katech\"\n",
    "    api.capture_data_custom(file_name=file_name, file_dir=dir_name)\n",
    "    time.sleep(0.1)\n",
    "    api.remove_object(object_id=obj_id)\n",
    "    time.sleep(0.1)"
   ]
  }
 ],
 "metadata": {
  "kernelspec": {
   "display_name": "Python 3 (ipykernel)",
   "language": "python",
   "name": "python3"
  },
  "language_info": {
   "codemirror_mode": {
    "name": "ipython",
    "version": 3
   },
   "file_extension": ".py",
   "mimetype": "text/x-python",
   "name": "python",
   "nbconvert_exporter": "python",
   "pygments_lexer": "ipython3",
   "version": "3.8.13"
  },
  "vscode": {
   "interpreter": {
    "hash": "0d0f3118e0c818932992693985449f0a8235d4adb1e348673641ab35acc5603f"
   }
  }
 },
 "nbformat": 4,
 "nbformat_minor": 2
}
